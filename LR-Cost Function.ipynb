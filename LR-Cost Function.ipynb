{
 "cells": [
  {
   "cell_type": "code",
   "execution_count": 30,
   "id": "46872a57-4328-42f5-bae0-2f51aed3a470",
   "metadata": {},
   "outputs": [],
   "source": [
    "import numpy as np\n",
    "import matplotlib.pyplot as plt\n",
    "%matplotlib inline\n",
    "x = np.array([1.0,2.0,3.0])\n",
    "y = np.array([200,300,400])\n",
    "m=len(size)"
   ]
  },
  {
   "cell_type": "code",
   "execution_count": 42,
   "id": "21483d4f-0821-49dd-92d1-640e32e87456",
   "metadata": {},
   "outputs": [
    {
     "data": {
      "text/plain": [
       "array([4350.,    0., 4350.])"
      ]
     },
     "execution_count": 42,
     "metadata": {},
     "output_type": "execute_result"
    }
   ],
   "source": [
    "# initialization\n",
    "w = 90\n",
    "b = 90\n",
    "Cost_F = np.zeros(m)\n",
    "f_wb   = np.zeros(m)\n",
    "\n",
    "def compute_cost_function(w, X, b, Y):\n",
    "    final = 0\n",
    "    J_wb = 0\n",
    "    final = 0\n",
    "    i=0\n",
    "    j=0\n",
    "    for j in range(m):\n",
    "        f_wb[j] = w*X[j] + b\n",
    "        #print(f\"f_wb: {f_wb}\")\n",
    "        res = (f_wb[j] - Y[j])**2\n",
    "        final += res\n",
    "        #print(f\"final{j}: {final}\")\n",
    "    return final\n",
    "\n",
    "for i in range(m):\n",
    "    j_wb = compute_cost_function(w, x, b, y)\n",
    "    Cost_F[i] = (1/2*m)*(j_wb)\n",
    "    #print(f\"Cost_F{i}:  {Cost_F[i]}\")\n",
    "    w+=10\n",
    "    b+=10\n",
    "\n",
    "Cost_F"
   ]
  }
 ],
 "metadata": {
  "kernelspec": {
   "display_name": "Python 3 (ipykernel)",
   "language": "python",
   "name": "python3"
  },
  "language_info": {
   "codemirror_mode": {
    "name": "ipython",
    "version": 3
   },
   "file_extension": ".py",
   "mimetype": "text/x-python",
   "name": "python",
   "nbconvert_exporter": "python",
   "pygments_lexer": "ipython3",
   "version": "3.11.7"
  }
 },
 "nbformat": 4,
 "nbformat_minor": 5
}
