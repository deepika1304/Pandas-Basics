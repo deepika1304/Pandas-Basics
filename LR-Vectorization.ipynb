{
 "cells": [
  {
   "cell_type": "code",
   "execution_count": 40,
   "id": "52df2469-6b9f-43a4-a7a1-ff351948593d",
   "metadata": {},
   "outputs": [],
   "source": [
    "#Using Dot products\n",
    "import numpy as np\n",
    "import time\n",
    "import matplotlib.pyplot as plt\n",
    "%matplotlib inline\n",
    "def my_dot(a,b):\n",
    "    n = len(a)\n",
    "    f_wb = 0\n",
    "    i=0\n",
    "    for i in range(n):\n",
    "        f_wb = a[i]*b[i] + f_wb\n",
    "    return f_wb\n",
    "    \n",
    "#f_wb = np.dot(w_train, x_train) + b\n",
    "#f_wb\n"
   ]
  },
  {
   "cell_type": "code",
   "execution_count": 39,
   "id": "385bbd15-0d08-4a4b-a303-d2102fe14614",
   "metadata": {},
   "outputs": [
    {
     "name": "stdout",
     "output_type": "stream",
     "text": [
      "for loop version duration : 87911.1025 ms \n",
      "Vectorized version duration: 144.2835 ms \n"
     ]
    }
   ],
   "source": [
    "#Comparing time for dot and for loop:\n",
    "\n",
    "np.random.seed(1)\n",
    "c = np.random.rand(100000000) #large array 1\n",
    "d = np.random.rand(100000000) #large array 2\n",
    "\n",
    "#Using for loop\n",
    "start = time.time() #to capture start time\n",
    "e = my_dot(c,d)\n",
    "end = time.time() #to capture end time\n",
    "print(f\"for loop version duration : {1000*(end-start):.4f} ms \")\n",
    "\n",
    "#Using dot product\n",
    "start = time.time() #to capture start time\n",
    "f = np.dot(c,d)\n",
    "end = time.time() #to capture end time\n",
    "print(f\"Vectorized version duration: {1000*(end-start):.4f} ms \")\n",
    "\n",
    "del(c);del(d)"
   ]
  }
 ],
 "metadata": {
  "kernelspec": {
   "display_name": "Python 3 (ipykernel)",
   "language": "python",
   "name": "python3"
  },
  "language_info": {
   "codemirror_mode": {
    "name": "ipython",
    "version": 3
   },
   "file_extension": ".py",
   "mimetype": "text/x-python",
   "name": "python",
   "nbconvert_exporter": "python",
   "pygments_lexer": "ipython3",
   "version": "3.11.7"
  }
 },
 "nbformat": 4,
 "nbformat_minor": 5
}
